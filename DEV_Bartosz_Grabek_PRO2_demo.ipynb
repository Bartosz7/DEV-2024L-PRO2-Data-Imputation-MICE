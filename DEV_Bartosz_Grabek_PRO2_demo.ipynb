{
 "cells": [
  {
   "cell_type": "code",
   "execution_count": 1,
   "id": "220ffcea",
   "metadata": {
    "slideshow": {
     "slide_type": "skip"
    }
   },
   "outputs": [],
   "source": [
    "from IPython.display import Markdown, Math, Latex, IFrame\n",
    "import numpy as np\n",
    "import pandas as pd\n",
    "import matplotlib.pyplot as plt"
   ]
  },
  {
   "cell_type": "code",
   "execution_count": 2,
   "id": "c3ec942b",
   "metadata": {},
   "outputs": [
    {
     "data": {
      "application/mercury+json": {
       "code_uid": "Checkbox.0.40.11.3-rand66b1d35a",
       "disabled": false,
       "hidden": false,
       "label": "Show code",
       "model_id": "46f8ab9d5ade4ba799c93bcb6f46396e",
       "url_key": "",
       "value": false,
       "widget": "Checkbox"
      },
      "application/vnd.jupyter.widget-view+json": {
       "model_id": "46f8ab9d5ade4ba799c93bcb6f46396e",
       "version_major": 2,
       "version_minor": 0
      },
      "text/plain": [
       "mercury.Checkbox"
      ]
     },
     "metadata": {},
     "output_type": "display_data"
    },
    {
     "data": {
      "application/mercury+json": {
       "allow_download": true,
       "code_uid": "App.0.40.25.5-randc95ebfae",
       "continuous_update": true,
       "description": "This notebook shows the impact of missing data on model performance and \n             investigates popular techniques of data imputation to mitigate impact of missing data on model performance",
       "full_screen": true,
       "model_id": "mercury-app",
       "notify": "{}",
       "output": "app",
       "schedule": "",
       "show_code": false,
       "show_prompt": false,
       "show_sidebar": true,
       "static_notebook": false,
       "stop_on_error": false,
       "title": "[DEMO] DEV Project 2: Missing Data Imputation",
       "widget": "App"
      },
      "text/html": [
       "<h3>Mercury Application</h3><small>This output won't appear in the web app.</small>"
      ],
      "text/plain": [
       "mercury.App"
      ]
     },
     "metadata": {},
     "output_type": "display_data"
    },
    {
     "data": {
      "application/mercury+json": {
       "code_uid": "Text.0.40.15.12-rand7d13312b",
       "disabled": false,
       "hidden": false,
       "label": "Random Seed",
       "model_id": "7f813b917b1a4d38882d161701445a7e",
       "rows": 1,
       "url_key": "",
       "value": "42",
       "widget": "Text"
      },
      "application/vnd.jupyter.widget-view+json": {
       "model_id": "7f813b917b1a4d38882d161701445a7e",
       "version_major": 2,
       "version_minor": 0
      },
      "text/plain": [
       "mercury.Text"
      ]
     },
     "metadata": {},
     "output_type": "display_data"
    }
   ],
   "source": [
    "import mercury as mr\n",
    "\n",
    "show_code = mr.Checkbox(label=\"Show code\", value=False)\n",
    "\n",
    "app = mr.App(title=\"[DEMO] DEV Project 2: Missing Data Imputation\",\n",
    "             description=\"\"\"This notebook shows the impact of missing data on model performance and \n",
    "             investigates popular techniques of data imputation to mitigate impact of missing data on model performance\"\"\",\n",
    "             show_code=False,\n",
    "             show_sidebar=True)\n",
    "\n",
    "# add text widget for seed\n",
    "seed_widget = mr.Text(value=\"42\", label=\"Random Seed\", rows=1)"
   ]
  },
  {
   "cell_type": "code",
   "execution_count": 3,
   "id": "87853517",
   "metadata": {
    "slideshow": {
     "slide_type": "skip"
    }
   },
   "outputs": [
    {
     "name": "stdout",
     "output_type": "stream",
     "text": [
      "42\n"
     ]
    }
   ],
   "source": [
    "RANDOM_SEED = 42\n",
    "seed = seed_widget.value\n",
    "range_max = 4294967295\n",
    "if seed != \"\":\n",
    "    try:\n",
    "        RANDOM_SEED = int(seed)\n",
    "    except:\n",
    "        RANDOM_SEED = abs(hash(seed)) % (range_max + 1)\n",
    "# print(RANDOM_SEED)"
   ]
  },
  {
   "cell_type": "code",
   "execution_count": 6,
   "id": "cf5d2584",
   "metadata": {},
   "outputs": [
    {
     "data": {
      "application/mercury+json": {
       "choices": [
        "Breast Cancer",
        "Wine"
       ],
       "code_uid": "Select.0.40.16.4-rand8bd5c260",
       "disabled": false,
       "hidden": false,
       "label": "Choose a dataset",
       "model_id": "d23d627053724ec2a27dac791089a09c",
       "url_key": "",
       "value": "Breast Cancer",
       "widget": "Select"
      },
      "application/vnd.jupyter.widget-view+json": {
       "model_id": "d23d627053724ec2a27dac791089a09c",
       "version_major": 2,
       "version_minor": 0
      },
      "text/plain": [
       "mercury.Select"
      ]
     },
     "metadata": {},
     "output_type": "display_data"
    }
   ],
   "source": [
    "from sklearn.datasets import load_breast_cancer, load_wine\n",
    "\n",
    "# choose the dataset\n",
    "dataset = mr.Select(label=\"Choose a dataset\", choices=[\"Breast Cancer\", \"Wine\"], value=\"Breast Cancer\")\n",
    "\n",
    "if dataset.value == \"Breast Cancer\":\n",
    "    data = load_breast_cancer()\n",
    "else:\n",
    "    data = load_wine()\n",
    "# data = load_breast_cancer()"
   ]
  },
  {
   "cell_type": "code",
   "execution_count": 9,
   "id": "36dcac21",
   "metadata": {},
   "outputs": [],
   "source": [
    "X = data[\"data\"]\n",
    "y = data[\"target\"]"
   ]
  },
  {
   "cell_type": "code",
   "execution_count": 10,
   "id": "ab457966",
   "metadata": {},
   "outputs": [],
   "source": [
    "from sklearn.model_selection import train_test_split\n",
    "\n",
    "X_train, X_test, y_train, y_test = train_test_split(X, y, test_size=0.2, random_state=42)"
   ]
  },
  {
   "cell_type": "code",
   "execution_count": 11,
   "id": "2ae105ec",
   "metadata": {},
   "outputs": [],
   "source": [
    "from sklearn.ensemble import RandomForestClassifier\n",
    "from sklearn.metrics import accuracy_score"
   ]
  },
  {
   "cell_type": "code",
   "execution_count": 20,
   "id": "0227afb2",
   "metadata": {
    "slideshow": {
     "slide_type": "notes"
    }
   },
   "outputs": [
    {
     "name": "stdout",
     "output_type": "stream",
     "text": [
      "(142, 13)\n"
     ]
    }
   ],
   "source": [
    "rfc = RandomForestClassifier()\n",
    "rfc.fit(X_train, y_train)\n",
    "\n",
    "print(dataset.value)"
   ]
  },
  {
   "cell_type": "code",
   "execution_count": 13,
   "id": "ebad62c2",
   "metadata": {},
   "outputs": [
    {
     "data": {
      "application/mercury+json": {
       "code_uid": "Slider.0.40.36.1-randf546a28b",
       "disabled": false,
       "hidden": false,
       "label": "Missing Data",
       "max": 1,
       "min": 0,
       "model_id": "b35eb29990b44666ab25264d0e2d29a3",
       "step": 0.01,
       "url_key": "",
       "value": 0.03,
       "widget": "Slider"
      },
      "application/vnd.jupyter.widget-view+json": {
       "model_id": "b35eb29990b44666ab25264d0e2d29a3",
       "version_major": 2,
       "version_minor": 0
      },
      "text/plain": [
       "mercury.Slider"
      ]
     },
     "metadata": {},
     "output_type": "display_data"
    },
    {
     "data": {
      "application/mercury+json": {
       "code_uid": "Slider.0.40.36.2-rand9471395d",
       "disabled": false,
       "hidden": false,
       "label": "Missing Data",
       "max": 1,
       "min": 0,
       "model_id": "940ea32a656140008cc5528c61b46ff1",
       "step": 0.01,
       "url_key": "",
       "value": 0.4,
       "widget": "Slider"
      },
      "application/vnd.jupyter.widget-view+json": {
       "model_id": "940ea32a656140008cc5528c61b46ff1",
       "version_major": 2,
       "version_minor": 0
      },
      "text/plain": [
       "mercury.Slider"
      ]
     },
     "metadata": {},
     "output_type": "display_data"
    },
    {
     "data": {
      "application/mercury+json": {
       "choices": [
        "Simple imputation by mean",
        "Simple imputation by median",
        "Simple imputation by mode",
        "MICE"
       ],
       "code_uid": "MultiSelect.0.40.16.3-rand4f9c2531",
       "disabled": false,
       "hidden": false,
       "label": "Imputation method(s)",
       "model_id": "42248bfd23f445ea9e4a32594047c277",
       "url_key": "",
       "value": [
        "Simple imputation by mean",
        "Simple imputation by median",
        "Simple imputation by mode",
        "MICE"
       ],
       "widget": "MultiSelect"
      },
      "application/vnd.jupyter.widget-view+json": {
       "model_id": "42248bfd23f445ea9e4a32594047c277",
       "version_major": 2,
       "version_minor": 0
      },
      "text/plain": [
       "mercury.MultiSelect"
      ]
     },
     "metadata": {},
     "output_type": "display_data"
    }
   ],
   "source": [
    "missing_ratio_slider_1 = mr.Slider(value=0.03, min=0, max=1, label=\"Missing Data\", step=0.01)\n",
    "missing_ratio_slider_2 = mr.Slider(value=0.40, min=0, max=1, label=\"Missing Data\", step=0.01)\n",
    "imputation_method = mr.MultiSelect(label=\"Imputation method(s)\", \n",
    "                                   value=[\"Simple imputation by mean\", \n",
    "                                          \"Simple imputation by median\", \n",
    "                                          \"Simple imputation by mode\",\n",
    "                                          \"MICE\"], \n",
    "                                   choices=[\"Simple imputation by mean\", \n",
    "                                            \"Simple imputation by median\", \n",
    "                                            \"Simple imputation by mode\",\n",
    "                                            \"MICE\"])"
   ]
  },
  {
   "cell_type": "code",
   "execution_count": 14,
   "id": "1f9096df",
   "metadata": {},
   "outputs": [],
   "source": [
    "missing_ratio_1 = missing_ratio_slider_1.value\n",
    "missing_ratio_2 = missing_ratio_slider_2.value\n",
    "np.random.seed(RANDOM_SEED)\n",
    "missing_indices_1 = np.random.choice(X_train.size, int(X_train.size * missing_ratio_1), \n",
    "                                   replace=False)\n",
    "np.random.seed(RANDOM_SEED)\n",
    "missing_indices_2 = np.random.choice(X_train.size, int(X_train.size * missing_ratio_2), \n",
    "                                     replace=False)\n",
    "\n",
    "X_train_missing_1 = X_train.copy()\n",
    "X_train_missing_1.flat[missing_indices_1] = np.nan\n",
    "\n",
    "X_train_missing_2 = X_train.copy()\n",
    "X_train_missing_2.flat[missing_indices_2] = np.nan"
   ]
  },
  {
   "cell_type": "code",
   "execution_count": 15,
   "id": "04fb6255",
   "metadata": {},
   "outputs": [],
   "source": [
    "from sklearn.metrics import confusion_matrix"
   ]
  },
  {
   "cell_type": "code",
   "execution_count": 16,
   "id": "c4021cbc",
   "metadata": {},
   "outputs": [],
   "source": [
    "# impute missing data using simple imputation\n",
    "from sklearn.experimental import enable_iterative_imputer\n",
    "from sklearn.impute import IterativeImputer\n",
    "from sklearn.impute import SimpleImputer\n",
    "\n",
    "mean_imputer = SimpleImputer(strategy=\"mean\")\n",
    "median_imputer = SimpleImputer(strategy=\"median\")\n",
    "mode_imputer = SimpleImputer(strategy=\"most_frequent\")\n",
    "mice_imputer = IterativeImputer()\n",
    "\n",
    "rfc1 = RandomForestClassifier(random_state=RANDOM_SEED)\n",
    "rfc2 = RandomForestClassifier(random_state=RANDOM_SEED)\n",
    "\n",
    "results = {\n",
    "    method: {\n",
    "        \"accuracy_1\": None,\n",
    "        \"confusion_matrix_1\": None,\n",
    "        \"accuracy_2\": None,\n",
    "        \"confusion_matrix_2\": None\n",
    "    }\n",
    "    for method in imputation_method.value\n",
    "}\n",
    "\n",
    "for method in imputation_method.value:\n",
    "    if method == \"Simple imputation by mean\":\n",
    "        X_train_imputed_1 = mean_imputer.fit_transform(X_train_missing_1)\n",
    "        X_train_imputed_2 = mean_imputer.fit_transform(X_train_missing_2)\n",
    "    elif method == \"Simple imputation by median\":\n",
    "        X_train_imputed_1 = median_imputer.fit_transform(X_train_missing_1)\n",
    "        X_train_imputed_2 = median_imputer.fit_transform(X_train_missing_2)\n",
    "    elif method == \"Simple imputation by mode\":\n",
    "        X_train_imputed_1 = mode_imputer.fit_transform(X_train_missing_1)\n",
    "        X_train_imputed_2 = mode_imputer.fit_transform(X_train_missing_2)\n",
    "    elif method == \"MICE\":\n",
    "        X_train_imputed_1 = mice_imputer.fit_transform(X_train_missing_1)\n",
    "        X_train_imputed_2 = mode_imputer.fit_transform(X_train_missing_2)\n",
    "    rfc1.fit(X_train_imputed_1, y_train)\n",
    "    rfc2.fit(X_train_imputed_2, y_train)\n",
    "    results[method][\"accuracy_1\"] = round(accuracy_score(rfc1.predict(X_test), y_test) * 100, 2)\n",
    "    results[method][\"confusion_matrix_1\"] = confusion_matrix(y_test, rfc1.predict(X_test))\n",
    "    results[method][\"accuracy_2\"] = round(accuracy_score(rfc2.predict(X_test), y_test) * 100, 2)\n",
    "    results[method][\"confusion_matrix_2\"] = confusion_matrix(y_test, rfc2.predict(X_test))"
   ]
  },
  {
   "cell_type": "code",
   "execution_count": 17,
   "id": "f58c252e",
   "metadata": {},
   "outputs": [
    {
     "data": {
      "text/markdown": [
       "# Accuracy in % (missing data: 3.0%)"
      ],
      "text/plain": [
       "<IPython.core.display.Markdown object>"
      ]
     },
     "metadata": {},
     "output_type": "display_data"
    },
    {
     "data": {
      "text/html": [
       "<style scoped>\n",
       "        .numberbox-container {\n",
       "        width: 100%;\n",
       "        display: flex;\n",
       "        flex-direction: row;\n",
       "        }\n",
       "        @media (max-width: 800px) {\n",
       "        .numberbox-container {\n",
       "            flex-direction: column;\n",
       "        }\n",
       "        }\n",
       "        </style><div class=\"numberbox-container\" style=\"display: flex; background: #fff;\">\n",
       "<div style=\"text-align: center; width: 100%; border: 1px solid lightgray; margin-right: 15px; margin-top: 15px; padding-top: 40px; padding-bottom: 30px; background: white; border-radius:5px\">\n",
       "  <span style=\"font-size: 4em; color: black; font-family: monospace; \">100.0</span>\n",
       "  \n",
       "  <span style=\"font-size: 2em; color: gray; display: block; padding-top: 20px; font-family: monospace; line-height: 1.3em;\">(Simple imputation by mean)</span>\n",
       "</div>\n",
       "  \n",
       "<div style=\"text-align: center; width: 100%; border: 1px solid lightgray; margin-right: 15px; margin-top: 15px; padding-top: 40px; padding-bottom: 30px; background: white; border-radius:5px\">\n",
       "  <span style=\"font-size: 4em; color: black; font-family: monospace; \">100.0</span>\n",
       "  \n",
       "  <span style=\"font-size: 2em; color: gray; display: block; padding-top: 20px; font-family: monospace; line-height: 1.3em;\">(Simple imputation by median)</span>\n",
       "</div>\n",
       "  \n",
       "<div style=\"text-align: center; width: 100%; border: 1px solid lightgray; margin-right: 15px; margin-top: 15px; padding-top: 40px; padding-bottom: 30px; background: white; border-radius:5px\">\n",
       "  <span style=\"font-size: 4em; color: black; font-family: monospace; \">97.22</span>\n",
       "  \n",
       "  <span style=\"font-size: 2em; color: gray; display: block; padding-top: 20px; font-family: monospace; line-height: 1.3em;\">(Simple imputation by mode)</span>\n",
       "</div>\n",
       "  \n",
       "<div style=\"text-align: center; width: 100%; border: 1px solid lightgray; margin-right: 0px; margin-top: 15px; padding-top: 40px; padding-bottom: 30px; background: white; border-radius:5px\">\n",
       "  <span style=\"font-size: 4em; color: black; font-family: monospace; \">100.0</span>\n",
       "  \n",
       "  <span style=\"font-size: 2em; color: gray; display: block; padding-top: 20px; font-family: monospace; line-height: 1.3em;\">(MICE)</span>\n",
       "</div>\n",
       "  </div>"
      ],
      "text/plain": [
       "<widgets.numberbox.NumberBox at 0x2a4ab477b20>"
      ]
     },
     "execution_count": 17,
     "metadata": {},
     "output_type": "execute_result"
    }
   ],
   "source": [
    "display(Markdown(f\"# Accuracy in % (missing data: {round(missing_ratio_1 * 100, 2)}%)\"))\n",
    "mr.NumberBox([mr.NumberBox(data=results[result][\"accuracy_1\"], title=f\"({result})\") for result in results])"
   ]
  },
  {
   "cell_type": "code",
   "execution_count": 18,
   "id": "4d747636",
   "metadata": {},
   "outputs": [
    {
     "data": {
      "text/markdown": [
       "# Accuracy in % (missing data: 40.0%)"
      ],
      "text/plain": [
       "<IPython.core.display.Markdown object>"
      ]
     },
     "metadata": {},
     "output_type": "display_data"
    },
    {
     "data": {
      "text/html": [
       "<style scoped>\n",
       "        .numberbox-container {\n",
       "        width: 100%;\n",
       "        display: flex;\n",
       "        flex-direction: row;\n",
       "        }\n",
       "        @media (max-width: 800px) {\n",
       "        .numberbox-container {\n",
       "            flex-direction: column;\n",
       "        }\n",
       "        }\n",
       "        </style><div class=\"numberbox-container\" style=\"display: flex; background: #fff;\">\n",
       "<div style=\"text-align: center; width: 100%; border: 1px solid lightgray; margin-right: 15px; margin-top: 15px; padding-top: 40px; padding-bottom: 30px; background: white; border-radius:5px\">\n",
       "  <span style=\"font-size: 4em; color: black; font-family: monospace; \">97.22</span>\n",
       "  \n",
       "                <span style=\"font-size: 1.3em; color: #FF6384; font-family: monospace;\"> -2%</span>\n",
       "                \n",
       "  <span style=\"font-size: 2em; color: gray; display: block; padding-top: 20px; font-family: monospace; line-height: 1.3em;\">(Simple imputation by mean)</span>\n",
       "</div>\n",
       "  \n",
       "<div style=\"text-align: center; width: 100%; border: 1px solid lightgray; margin-right: 15px; margin-top: 15px; padding-top: 40px; padding-bottom: 30px; background: white; border-radius:5px\">\n",
       "  <span style=\"font-size: 4em; color: black; font-family: monospace; \">97.22</span>\n",
       "  \n",
       "                <span style=\"font-size: 1.3em; color: #FF6384; font-family: monospace;\"> -2%</span>\n",
       "                \n",
       "  <span style=\"font-size: 2em; color: gray; display: block; padding-top: 20px; font-family: monospace; line-height: 1.3em;\">(Simple imputation by median)</span>\n",
       "</div>\n",
       "  \n",
       "<div style=\"text-align: center; width: 100%; border: 1px solid lightgray; margin-right: 15px; margin-top: 15px; padding-top: 40px; padding-bottom: 30px; background: white; border-radius:5px\">\n",
       "  <span style=\"font-size: 4em; color: black; font-family: monospace; \">97.22</span>\n",
       "  \n",
       "                <span style=\"font-size: 1.3em; color: #FF6384; font-family: monospace;\"> 0%</span>\n",
       "                \n",
       "  <span style=\"font-size: 2em; color: gray; display: block; padding-top: 20px; font-family: monospace; line-height: 1.3em;\">(Simple imputation by mode)</span>\n",
       "</div>\n",
       "  \n",
       "<div style=\"text-align: center; width: 100%; border: 1px solid lightgray; margin-right: 0px; margin-top: 15px; padding-top: 40px; padding-bottom: 30px; background: white; border-radius:5px\">\n",
       "  <span style=\"font-size: 4em; color: black; font-family: monospace; \">97.22</span>\n",
       "  \n",
       "                <span style=\"font-size: 1.3em; color: #FF6384; font-family: monospace;\"> -2%</span>\n",
       "                \n",
       "  <span style=\"font-size: 2em; color: gray; display: block; padding-top: 20px; font-family: monospace; line-height: 1.3em;\">(MICE)</span>\n",
       "</div>\n",
       "  </div>"
      ],
      "text/plain": [
       "<widgets.numberbox.NumberBox at 0x2a4ab40da30>"
      ]
     },
     "execution_count": 18,
     "metadata": {},
     "output_type": "execute_result"
    }
   ],
   "source": [
    "display(Markdown(f\"# Accuracy in % (missing data: {round(missing_ratio_2 * 100, 2)}%)\"))\n",
    "mr.NumberBox([mr.NumberBox(data=results[result][\"accuracy_2\"], \n",
    "                           percent_change=int(results[result][\"accuracy_2\"] - results[result][\"accuracy_1\"]),\n",
    "                           title=f\"({result})\") for result in results])"
   ]
  }
 ],
 "metadata": {
  "kernelspec": {
   "display_name": "Python 3 (ipykernel)",
   "language": "python",
   "name": "python3"
  },
  "language_info": {
   "codemirror_mode": {
    "name": "ipython",
    "version": 3
   },
   "file_extension": ".py",
   "mimetype": "text/x-python",
   "name": "python",
   "nbconvert_exporter": "python",
   "pygments_lexer": "ipython3",
   "version": "3.8.18"
  },
  "toc": {
   "base_numbering": 1,
   "nav_menu": {},
   "number_sections": true,
   "sideBar": true,
   "skip_h1_title": false,
   "title_cell": "Table of Contents",
   "title_sidebar": "Contents",
   "toc_cell": false,
   "toc_position": {},
   "toc_section_display": true,
   "toc_window_display": false
  }
 },
 "nbformat": 4,
 "nbformat_minor": 5
}
